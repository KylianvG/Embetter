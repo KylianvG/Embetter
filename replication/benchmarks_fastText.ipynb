{
 "cells": [
  {
   "cell_type": "markdown",
   "metadata": {},
   "source": [
    "## Evaluation with Standard Benchmarks: Coherence\n",
    "### Using evaluation tool for word embeddings"
   ]
  },
  {
   "cell_type": "markdown",
   "metadata": {},
   "source": [
    "Here, we apply standard benchmarks on coherence on w2v and debiased w2v.\n",
    "\n",
    "Sources:\n",
    "\n",
    "#### RG: H. Rubenstein and J. B. Goodenough. Contextual correlates of synonymy. Communications of the ACM, 8(10):627–633, 1965.\n",
    "\n",
    "####  WS: L. Finkelstein, E. Gabrilovich, Y. Matias, E. Rivlin, Z. Solan, G. Wolfman, and E. Ruppin. Placing search in context: The concept  revisited. In WWW. ACM, 2001.\n",
    "\n",
    "####  Wordsim benchmarks - Code adapted from source - embedding-evaluation: https://github.com/k-kawakami/embedding-evaluation\n"
   ]
  },
  {
   "cell_type": "code",
   "execution_count": 1,
   "metadata": {},
   "outputs": [],
   "source": [
    "# Subset of GoogleNews-vectors:\n",
    "# https://drive.google.com/file/d/1NH6jcrg8SXbnhpIXRIXF_-KUE7wGxGaG/view?usp=sharing\n",
    "\n",
    "# For full embeddings:\n",
    "# Download embeddings at https://github.com/tolga-b/debiaswe and put them on the following directory\n",
    "# embeddings/GoogleNews-vectors-negative300-hard-debiased.bin\n",
    "# embeddings/GoogleNews-vectors-negative300.bin"
   ]
  },
  {
   "cell_type": "code",
   "execution_count": 2,
   "metadata": {},
   "outputs": [],
   "source": [
    "from __future__ import print_function, division\n",
    "%matplotlib inline\n",
    "from matplotlib import pyplot as plt\n",
    "import json\n",
    "import random\n",
    "import numpy as np\n",
    "import os\n",
    "import copy\n",
    "\n",
    "import debiaswe as dwe\n",
    "import debiaswe.we as we\n",
    "from debiaswe.we import WordEmbedding\n",
    "from debiaswe.data import load_professions\n",
    "\n",
    "from debiaswe.benchmarks import Benchmark"
   ]
  },
  {
   "cell_type": "markdown",
   "metadata": {},
   "source": [
    "# FastText"
   ]
  },
  {
   "cell_type": "markdown",
   "metadata": {},
   "source": [
    "## 1: original word embeddings on RG & WS"
   ]
  },
  {
   "cell_type": "code",
   "execution_count": 3,
   "metadata": {},
   "outputs": [
    {
     "name": "stdout",
     "output_type": "stream",
     "text": [
      "*** Reading data from ./embeddings/fasttext_wiki-news-300d-1M.vec\n",
      "Got weird line 999994 300\n",
      "\n",
      "(50000, 300)\n",
      "50000 words of dimension 300 : ,, the, ., and, ..., Winston-Salem, anion, JSP, Postecoglou\n",
      "50000 words of dimension 300 : ,, the, ., and, ..., Winston-Salem, anion, JSP, Postecoglou\n",
      "29950 words of dimension 300 : ,, the, ., and, ..., circumscribed, whos, salvaging, anion\n",
      "article-for-deletion\n",
      "government-sponsored\n",
      "internationalization\n",
      "29947 words of dimension 300 : ,, the, ., and, ..., circumscribed, whos, salvaging, anion\n",
      "26894 words of dimension 300 : the, and, of, to, ..., circumscribed, whos, salvaging, anion\n",
      "Wrote 26894 words to ./embeddings/fasttext_wiki-news-300d_small.txt\n"
     ]
    }
   ],
   "source": [
    "# Obtain small FastText embeddings set\n",
    "E = WordEmbedding('./embeddings/fasttext_wiki-news-300d-1M.vec', limit=50000)\n",
    "E.filter_words(lambda x: x.lower()==x)\n",
    "for word in E.words:\n",
    "    if len(word)>19:\n",
    "        print(word)\n",
    "E.filter_words(lambda x: len(x)<20)\n",
    "E.filter_words(lambda x: x.isalpha())\n",
    "E.save('./embeddings/fasttext_wiki-news-300d_small.txt')"
   ]
  },
  {
   "cell_type": "code",
   "execution_count": 4,
   "metadata": {},
   "outputs": [
    {
     "name": "stdout",
     "output_type": "stream",
     "text": [
      "Processing batch 1 of 40\n",
      "Processing batch 2 of 40\n",
      "Processing batch 3 of 40\n",
      "Processing batch 4 of 40\n",
      "Processing batch 5 of 40\n",
      "Processing batch 6 of 40\n",
      "Processing batch 7 of 40\n",
      "Processing batch 8 of 40\n",
      "Processing batch 9 of 40\n",
      "Processing batch 10 of 40\n",
      "Processing batch 11 of 40\n",
      "Processing batch 12 of 40\n",
      "Processing batch 13 of 40\n",
      "Processing batch 14 of 40\n",
      "Processing batch 15 of 40\n",
      "Processing batch 16 of 40\n",
      "Processing batch 17 of 40\n",
      "Processing batch 18 of 40\n",
      "Processing batch 19 of 40\n",
      "Processing batch 20 of 40\n",
      "Processing batch 21 of 40\n",
      "Processing batch 22 of 40\n",
      "Processing batch 23 of 40\n",
      "Processing batch 24 of 40\n",
      "Processing batch 25 of 40\n",
      "Processing batch 26 of 40\n",
      "Processing batch 27 of 40\n",
      "Processing batch 28 of 40\n",
      "Processing batch 29 of 40\n",
      "Processing batch 30 of 40\n",
      "Processing batch 31 of 40\n",
      "Processing batch 32 of 40\n",
      "Processing batch 33 of 40\n",
      "Processing batch 34 of 40\n",
      "Processing batch 35 of 40\n",
      "Processing batch 36 of 40\n",
      "Processing batch 37 of 40\n",
      "Processing batch 38 of 40\n",
      "Processing batch 39 of 40\n",
      "Processing batch 40 of 40\n",
      "+-------------------------------------------------------+\n",
      "|             Results for 'Before', FastText            |\n",
      "+---------------+-------+-----------+-------------------+\n",
      "| Dataset       | Found | Not Found |       Score       |\n",
      "+---------------+-------+-----------+-------------------+\n",
      "| EN-WS-353-ALL |  324  |     29    | 74.10786418997199 |\n",
      "| EN-RG-65      |   56  |     9     | 83.86622701863348 |\n",
      "| MSR-analogy   |  4838 |    3162   | 55.87019429516329 |\n",
      "+---------------+-------+-----------+-------------------+\n"
     ]
    }
   ],
   "source": [
    "# Evaluate\n",
    "benchmark = Benchmark()\n",
    "result_original = benchmark.evaluate(E, \"'Before', FastText\")"
   ]
  },
  {
   "cell_type": "markdown",
   "metadata": {
    "collapsed": true
   },
   "source": [
    "## 2: Debiased word embeddings on RG & WS\n",
    "\n",
    "\n",
    "### Step 2a: Hard debiased"
   ]
  },
  {
   "cell_type": "code",
   "execution_count": 5,
   "metadata": {},
   "outputs": [],
   "source": [
    "from debiaswe.debias import hard_debias\n",
    "\n",
    "# Path for hard_debiased embedding file \n",
    "hard_embedding_file = './embeddings/fasttext_wiki-news-300d-1M_hard_debiased.vec'"
   ]
  },
  {
   "cell_type": "code",
   "execution_count": 6,
   "metadata": {},
   "outputs": [
    {
     "name": "stdout",
     "output_type": "stream",
     "text": [
      "def pairs size: 10\n",
      "defs size: 9\n",
      "26894 words of dimension 300 : the, and, of, to, ..., circumscribed, whos, salvaging, anion\n",
      "{('Spokesman', 'Spokeswoman'), ('monastery', 'convent'), ('GRANDSONS', 'GRANDDAUGHTERS'), ('Gentleman', 'Lady'), ('HIMSELF', 'HERSELF'), ('GRANDFATHER', 'GRANDMOTHER'), ('prince', 'princess'), ('CATHOLIC_PRIEST', 'NUN'), ('Dad', 'Mom'), ('grandpa', 'grandma'), ('Fraternity', 'Sorority'), ('PRINCE', 'PRINCESS'), ('He', 'She'), ('HE', 'SHE'), ('father', 'mother'), ('SONS', 'DAUGHTERS'), ('COUNCILMAN', 'COUNCILWOMAN'), ('DADS', 'MOMS'), ('King', 'Queen'), ('KING', 'QUEEN'), ('Kings', 'Queens'), ('FATHERS', 'MOTHERS'), ('spokesman', 'spokeswoman'), ('SCHOOLBOY', 'SCHOOLGIRL'), ('boy', 'girl'), ('businessman', 'businesswoman'), ('HIS', 'HER'), ('DAD', 'MOM'), ('grandson', 'granddaughter'), ('Males', 'Females'), ('ex_girlfriend', 'ex_boyfriend'), ('councilman', 'councilwoman'), ('Dads', 'Moms'), ('fatherhood', 'motherhood'), ('gentlemen', 'ladies'), ('schoolboy', 'schoolgirl'), ('Gentlemen', 'Ladies'), ('MEN', 'WOMEN'), ('Colt', 'Filly'), ('Dudes', 'Gals'), ('FATHER', 'MOTHER'), ('Councilman', 'Councilwoman'), ('Fatherhood', 'Motherhood'), ('COLT', 'FILLY'), ('MALES', 'FEMALES'), ('FATHERHOOD', 'MOTHERHOOD'), ('nephew', 'niece'), ('prostate_cancer', 'ovarian_cancer'), ('Gelding', 'Mare'), ('dudes', 'gals'), ('king', 'queen'), ('Grandfather', 'Grandmother'), ('man', 'woman'), ('Prince', 'Princess'), ('Uncle', 'Aunt'), ('SPOKESMAN', 'SPOKESWOMAN'), ('Nephew', 'Niece'), ('GRANDPA', 'GRANDMA'), ('TWIN_BROTHER', 'TWIN_SISTER'), ('fraternity', 'sorority'), ('Grandson', 'Granddaughter'), ('his', 'her'), ('boys', 'girls'), ('testosterone', 'estrogen'), ('son', 'daughter'), ('brothers', 'sisters'), ('Prostate_Cancer', 'Ovarian_Cancer'), ('BROTHERS', 'SISTERS'), ('congressman', 'congresswoman'), ('Chairman', 'Chairwoman'), ('BUSINESSMAN', 'BUSINESSWOMAN'), ('Congressman', 'Congresswoman'), ('Businessman', 'Businesswoman'), ('FRATERNITY', 'SORORITY'), ('brother', 'sister'), ('Grandsons', 'Granddaughters'), ('fella', 'granny'), ('SON', 'DAUGHTER'), ('he', 'she'), ('GENTLEMEN', 'LADIES'), ('GENTLEMAN', 'LADY'), ('Schoolboy', 'Schoolgirl'), ('Sons', 'Daughters'), ('chairman', 'chairwoman'), ('BOYS', 'GIRLS'), ('Fella', 'Granny'), ('FELLA', 'GRANNY'), ('dads', 'moms'), ('Catholic_Priest', 'Nun'), ('Monastery', 'Convent'), ('Boys', 'Girls'), ('fathers', 'mothers'), ('gentleman', 'lady'), ('twin_brother', 'twin_sister'), ('UNCLE', 'AUNT'), ('dad', 'mom'), ('grandfather', 'grandmother'), ('males', 'females'), ('TESTOSTERONE', 'ESTROGEN'), ('EX_GIRLFRIEND', 'EX_BOYFRIEND'), ('KINGS', 'QUEENS'), ('uncle', 'aunt'), ('Twin_Brother', 'Twin_Sister'), ('CONGRESSMAN', 'CONGRESSWOMAN'), ('Boy', 'Girl'), ('His', 'Her'), ('Himself', 'Herself'), ('Testosterone', 'Estrogen'), ('Men', 'Women'), ('catholic_priest', 'nun'), ('CHAIRMAN', 'CHAIRWOMAN'), ('male', 'female'), ('Male', 'Female'), ('GELDING', 'MARE'), ('MONASTERY', 'CONVENT'), ('Son', 'Daughter'), ('Wives', 'Husbands'), ('Father', 'Mother'), ('NEPHEW', 'NIECE'), ('Fathers', 'Mothers'), ('colt', 'filly'), ('gelding', 'mare'), ('himself', 'herself'), ('Brothers', 'Sisters'), ('GRANDSON', 'GRANDDAUGHTER'), ('MALE', 'FEMALE'), ('kings', 'queens'), ('wives', 'husbands'), ('BROTHER', 'SISTER'), ('DUDES', 'GALS'), ('MAN', 'WOMAN'), ('PROSTATE_CANCER', 'OVARIAN_CANCER'), ('men', 'women'), ('WIVES', 'HUSBANDS'), ('grandsons', 'granddaughters'), ('BOY', 'GIRL'), ('sons', 'daughters'), ('Man', 'Woman'), ('Brother', 'Sister'), ('Ex_Girlfriend', 'Ex_Boyfriend'), ('Grandpa', 'Grandma')}\n",
      "26894 words of dimension 300 : the, and, of, to, ..., circumscribed, whos, salvaging, anion\n"
     ]
    }
   ],
   "source": [
    "if os.path.exists(hard_embedding_file):\n",
    "    E_hard = WordEmbedding(hard_embedding_file)\n",
    "\n",
    "else:\n",
    "    with open('./data/definitional_pairs.json', \"r\") as f:\n",
    "        defs = json.load(f)\n",
    "        print(\"def pairs size:\", len(defs))\n",
    "\n",
    "    with open('./data/equalize_pairs.json', \"r\") as f:\n",
    "        equalize_pairs = json.load(f)\n",
    "\n",
    "    with open('./data/gender_specific_seed.json', \"r\") as f:\n",
    "        gender_specific_words = json.load(f)\n",
    "        \n",
    "    E_hard = copy.deepcopy(E)    \n",
    "    \n",
    "    for def_pair in defs:\n",
    "        if not def_pair[0] in E_hard.words or not def_pair[1] in E_hard.words:\n",
    "            defs.remove(def_pair)\n",
    "    print(\"defs size:\", len(defs))\n",
    "    \n",
    "    hard_debias(E_hard, gender_specific_words, defs, equalize_pairs)"
   ]
  },
  {
   "cell_type": "code",
   "execution_count": 7,
   "metadata": {
    "scrolled": true
   },
   "outputs": [
    {
     "name": "stdout",
     "output_type": "stream",
     "text": [
      "Processing batch 1 of 40\n",
      "Processing batch 2 of 40\n",
      "Processing batch 3 of 40\n",
      "Processing batch 4 of 40\n",
      "Processing batch 5 of 40\n",
      "Processing batch 6 of 40\n",
      "Processing batch 7 of 40\n",
      "Processing batch 8 of 40\n",
      "Processing batch 9 of 40\n",
      "Processing batch 10 of 40\n",
      "Processing batch 11 of 40\n",
      "Processing batch 12 of 40\n",
      "Processing batch 13 of 40\n",
      "Processing batch 14 of 40\n",
      "Processing batch 15 of 40\n",
      "Processing batch 16 of 40\n",
      "Processing batch 17 of 40\n",
      "Processing batch 18 of 40\n",
      "Processing batch 19 of 40\n",
      "Processing batch 20 of 40\n",
      "Processing batch 21 of 40\n",
      "Processing batch 22 of 40\n",
      "Processing batch 23 of 40\n",
      "Processing batch 24 of 40\n",
      "Processing batch 25 of 40\n",
      "Processing batch 26 of 40\n",
      "Processing batch 27 of 40\n",
      "Processing batch 28 of 40\n",
      "Processing batch 29 of 40\n",
      "Processing batch 30 of 40\n",
      "Processing batch 31 of 40\n",
      "Processing batch 32 of 40\n",
      "Processing batch 33 of 40\n",
      "Processing batch 34 of 40\n",
      "Processing batch 35 of 40\n",
      "Processing batch 36 of 40\n",
      "Processing batch 37 of 40\n",
      "Processing batch 38 of 40\n",
      "Processing batch 39 of 40\n",
      "Processing batch 40 of 40\n",
      "+-------------------------------------------------------+\n",
      "|         Results for 'Hard-debiased', FastText         |\n",
      "+---------------+-------+-----------+-------------------+\n",
      "| Dataset       | Found | Not Found |       Score       |\n",
      "+---------------+-------+-----------+-------------------+\n",
      "| EN-WS-353-ALL |  324  |     29    | 74.17924052453014 |\n",
      "| EN-RG-65      |   56  |     9     | 83.50735694621694 |\n",
      "| MSR-analogy   |  4838 |    3162   | 55.99421248449773 |\n",
      "+---------------+-------+-----------+-------------------+\n"
     ]
    }
   ],
   "source": [
    "# Evaluate for hard-debiased\n",
    "result_hard_debiased = benchmark.evaluate(E_hard, \"'Hard-debiased', FastText\")"
   ]
  },
  {
   "cell_type": "markdown",
   "metadata": {},
   "source": [
    "### Step 2b: Soft debiased\n"
   ]
  },
  {
   "cell_type": "code",
   "execution_count": 8,
   "metadata": {},
   "outputs": [],
   "source": [
    "from debiaswe.debias import soft_debias\n",
    "\n",
    "# Path for soft_debiased embedding file \n",
    "soft_embedding_file = './embeddings/fasttext_wiki-news-300d-1M_soft_debiased.vec'"
   ]
  },
  {
   "cell_type": "code",
   "execution_count": 9,
   "metadata": {},
   "outputs": [
    {
     "name": "stdout",
     "output_type": "stream",
     "text": [
      "Loss @ Epoch #0: 1975238.0\n",
      "Loss @ Epoch #100: 212619.28125\n",
      "Loss @ Epoch #200: 106259.140625\n",
      "Loss @ Epoch #300: 61320.578125\n",
      "Loss @ Epoch #400: 38644.35546875\n",
      "Loss @ Epoch #500: 26022.271484375\n",
      "Loss @ Epoch #600: 18496.947265625\n",
      "Loss @ Epoch #700: 13752.0087890625\n",
      "Loss @ Epoch #800: 10606.4404296875\n",
      "Loss @ Epoch #900: 8426.341796875\n",
      "Loss @ Epoch #1000: 6855.7451171875\n",
      "Loss @ Epoch #1100: 5685.345703125\n",
      "Loss @ Epoch #1200: 4786.84130859375\n",
      "Loss @ Epoch #1300: 4078.810546875\n",
      "Loss @ Epoch #1400: 3507.98291015625\n",
      "Loss @ Epoch #1500: 3038.87646484375\n",
      "Loss @ Epoch #1600: 2646.6923828125\n",
      "Loss @ Epoch #1700: 2315.631591796875\n",
      "Loss @ Epoch #1800: 2030.019775390625\n",
      "Loss @ Epoch #1900: 1788.849609375\n",
      "Loss @ Epoch #2000: 1569.93017578125\n",
      "Loss @ Epoch #2100: 1382.8094482421875\n",
      "Loss @ Epoch #2200: 1251.527099609375\n",
      "Loss @ Epoch #2300: 1097.325927734375\n",
      "Loss @ Epoch #2400: 984.4572143554688\n",
      "Loss @ Epoch #2500: 862.98583984375\n",
      "Loss @ Epoch #2600: 758.3908081054688\n",
      "Loss @ Epoch #2700: 665.1876831054688\n",
      "Loss @ Epoch #2800: 608.8673706054688\n",
      "Loss @ Epoch #2900: 533.43115234375\n",
      "Lowest loss: 471.9791564941406\n"
     ]
    }
   ],
   "source": [
    "if os.path.exists(hard_embedding_file):\n",
    "    E_soft = WordEmbedding(soft_embedding_file)\n",
    "else:\n",
    "    E_soft = copy.deepcopy(E)  \n",
    "    soft_debias(E_soft, gender_specific_words, defs, log=True, epochs = 3000, lr=0.01, decrease_times=[])"
   ]
  },
  {
   "cell_type": "code",
   "execution_count": 10,
   "metadata": {},
   "outputs": [
    {
     "name": "stdout",
     "output_type": "stream",
     "text": [
      "Processing batch 1 of 40\n",
      "Processing batch 2 of 40\n",
      "Processing batch 3 of 40\n",
      "Processing batch 4 of 40\n",
      "Processing batch 5 of 40\n",
      "Processing batch 6 of 40\n",
      "Processing batch 7 of 40\n",
      "Processing batch 8 of 40\n",
      "Processing batch 9 of 40\n",
      "Processing batch 10 of 40\n",
      "Processing batch 11 of 40\n",
      "Processing batch 12 of 40\n",
      "Processing batch 13 of 40\n",
      "Processing batch 14 of 40\n",
      "Processing batch 15 of 40\n",
      "Processing batch 16 of 40\n",
      "Processing batch 17 of 40\n",
      "Processing batch 18 of 40\n",
      "Processing batch 19 of 40\n",
      "Processing batch 20 of 40\n",
      "Processing batch 21 of 40\n",
      "Processing batch 22 of 40\n",
      "Processing batch 23 of 40\n",
      "Processing batch 24 of 40\n",
      "Processing batch 25 of 40\n",
      "Processing batch 26 of 40\n",
      "Processing batch 27 of 40\n",
      "Processing batch 28 of 40\n",
      "Processing batch 29 of 40\n",
      "Processing batch 30 of 40\n",
      "Processing batch 31 of 40\n",
      "Processing batch 32 of 40\n",
      "Processing batch 33 of 40\n",
      "Processing batch 34 of 40\n",
      "Processing batch 35 of 40\n",
      "Processing batch 36 of 40\n",
      "Processing batch 37 of 40\n",
      "Processing batch 38 of 40\n",
      "Processing batch 39 of 40\n",
      "Processing batch 40 of 40\n",
      "+-------------------------------------------------------+\n",
      "|         Results for 'Soft-debiased', FastText         |\n",
      "+---------------+-------+-----------+-------------------+\n",
      "| Dataset       | Found | Not Found |       Score       |\n",
      "+---------------+-------+-----------+-------------------+\n",
      "| EN-WS-353-ALL |  324  |     29    | 73.73702832028661 |\n",
      "| EN-RG-65      |   56  |     9     | 85.07613183420915 |\n",
      "| MSR-analogy   |  4838 |    3162   | 46.01074824307565 |\n",
      "+---------------+-------+-----------+-------------------+\n"
     ]
    }
   ],
   "source": [
    "# Evaluate for soft-debiased\n",
    "result_soft_debiased = benchmark.evaluate(E_soft, \"'Soft-debiased', FastText\")"
   ]
  },
  {
   "cell_type": "code",
   "execution_count": 11,
   "metadata": {
    "scrolled": true
   },
   "outputs": [
    {
     "name": "stdout",
     "output_type": "stream",
     "text": [
      "+---------------------------------------------------------------------------+\n",
      "|                        Results for FastText dataset                       |\n",
      "+---------------+-------------------+-------------------+-------------------+\n",
      "|     Score     |      EN-RG-65     |   EN-WS-353-ALL   |    MSR-analogy    |\n",
      "+---------------+-------------------+-------------------+-------------------+\n",
      "|     Before    | 83.86622701863348 | 74.10786418997199 | 55.87019429516329 |\n",
      "| Hard-debiased | 83.50735694621694 | 74.17924052453014 | 55.99421248449773 |\n",
      "| Soft-debiased | 85.07613183420915 | 73.73702832028661 | 46.01074824307565 |\n",
      "+---------------+-------------------+-------------------+-------------------+\n"
     ]
    }
   ],
   "source": [
    "benchmark.pprint_compare([result_original, result_hard_debiased, result_soft_debiased], [\"Before\", \"Hard-debiased\", \"Soft-debiased\"], \"FastText\")"
   ]
  },
  {
   "cell_type": "code",
   "execution_count": null,
   "metadata": {},
   "outputs": [],
   "source": []
  },
  {
   "cell_type": "code",
   "execution_count": null,
   "metadata": {},
   "outputs": [],
   "source": []
  }
 ],
 "metadata": {
  "kernelspec": {
   "display_name": "Python 3",
   "language": "python",
   "name": "python3"
  },
  "language_info": {
   "codemirror_mode": {
    "name": "ipython",
    "version": 3
   },
   "file_extension": ".py",
   "mimetype": "text/x-python",
   "name": "python",
   "nbconvert_exporter": "python",
   "pygments_lexer": "ipython3",
   "version": "3.7.6"
  }
 },
 "nbformat": 4,
 "nbformat_minor": 2
}
