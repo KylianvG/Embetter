{
 "cells": [
  {
   "cell_type": "markdown",
   "metadata": {},
   "source": [
    "# Fairness in AI: Removing word embeddings\n",
    "\n",
    "#### Kylian van Geijtenbeek, Thom Visser, Martine Toering, Iulia Ionescu"
   ]
  },
  {
   "cell_type": "markdown",
   "metadata": {},
   "source": [
    "In this paper we reproduce the word embedding debiasing algo-rithm from Bolukbasi et al. [2]. We adapt their online codebase and extend it with their soft debiasing method, integrate several popular benchmarks and investigate the effectiveness of the algorithmon the newer fastText, BERT and XLNet embeddings, besides the Word2vec embeddings used by Bolukbasi et al. [2]. We show that the removal of direct bias from all the different embeddings barely affects their effectiveness through a comparison of benchmark scores. However, we fail to reproduce the large scale soft debiasing results due to a lack of detail on the original implementation."
   ]
  },
  {
   "cell_type": "code",
   "execution_count": 1,
   "metadata": {},
   "outputs": [],
   "source": [
    "from __future__ import print_function, division\n",
    "%matplotlib inline\n",
    "from matplotlib import pyplot as plt\n",
    "import json\n",
    "import random\n",
    "import numpy as np\n",
    "\n",
    "import debiaswe as dwe\n",
    "import debiaswe.we as we\n",
    "from debiaswe.we import WordEmbedding\n",
    "from debiaswe.data import load_professions"
   ]
  },
  {
   "cell_type": "markdown",
   "metadata": {},
   "source": [
    "## Notebook preferences"
   ]
  },
  {
   "cell_type": "code",
   "execution_count": null,
   "metadata": {},
   "outputs": [],
   "source": []
  },
  {
   "cell_type": "markdown",
   "metadata": {},
   "source": [
    "# 1 - Gender Bias in word2vec, Glove and FastText"
   ]
  },
  {
   "cell_type": "markdown",
   "metadata": {},
   "source": [
    "### Load data\n",
    "Word embedding word2vec is trained on a corpus of Google News texts consisting of 3 million English words. The embedding maps each word into a 300-dimension vector. Glove web-crawl. FastText is a word embedding from Facebook AI Research lab trained on Wikipedia."
   ]
  },
  {
   "cell_type": "code",
   "execution_count": 2,
   "metadata": {},
   "outputs": [],
   "source": [
    "w2v = './embeddings/w2v_gnews_small.txt'\n",
    "glove = './embeddings/glove-300d_small.txt'\n",
    "ft = './embeddings/fasttext_wiki-news-300d_small.txt'"
   ]
  },
  {
   "cell_type": "code",
   "execution_count": 3,
   "metadata": {},
   "outputs": [
    {
     "name": "stdout",
     "output_type": "stream",
     "text": [
      "*** Reading data from ./embeddings/w2v_gnews_small.txt\n",
      "(26423, 300)\n",
      "26423 words of dimension 300 : in, for, that, is, ..., Jay, Leroy, Brad, Jermaine\n",
      "*** Reading data from ./embeddings/glove-300d_small.txt\n",
      "(42982, 300)\n",
      "42982 words of dimension 300 : the, and, to, of, ..., cushman, darkside, motherland, chairmen\n",
      "*** Reading data from ./embeddings/fasttext_wiki-news-300d_small.txt\n",
      "(27014, 300)\n",
      "27014 words of dimension 300 : the, and, of, to, ..., circumscribed, whos, salvaging, anion\n"
     ]
    }
   ],
   "source": [
    "# TODO \n",
    "\n",
    "# Load google news word2vec\n",
    "E = WordEmbedding(w2v)\n",
    "\n",
    "# Load Glove\n",
    "E_g = WordEmbedding(glove)\n",
    "\n",
    "# Load FastText \n",
    "E_ft = WordEmbedding(ft)"
   ]
  },
  {
   "cell_type": "code",
   "execution_count": 4,
   "metadata": {},
   "outputs": [
    {
     "name": "stdout",
     "output_type": "stream",
     "text": [
      "Loaded professions\n",
      "Format:\n",
      "word,\n",
      "definitional female -1.0 -> definitional male 1.0\n",
      "stereotypical female -1.0 -> stereotypical male 1.0\n"
     ]
    }
   ],
   "source": [
    "# Load professions from Bolukbasi et al.\n",
    "professions = load_professions()\n",
    "profession_words = [p[0] for p in professions]"
   ]
  },
  {
   "cell_type": "code",
   "execution_count": 5,
   "metadata": {},
   "outputs": [],
   "source": [
    "# Plot manifolds\n",
    "# print(np.linalg.norm(E.vecs, axis=1).mean())\n",
    "# print(E.vecs.mean())\n",
    "\n",
    "# from sklearn.manifold import TSNE\n",
    "# tsne = TSNE(n_components=2).fit_transform(E.vecs[:2000])\n",
    "# plt.scatter(tsne[:,0], tsne[:,1], s=10)\n",
    "# plt.show()"
   ]
  },
  {
   "cell_type": "markdown",
   "metadata": {},
   "source": [
    "### Define gender direction"
   ]
  },
  {
   "cell_type": "code",
   "execution_count": 6,
   "metadata": {},
   "outputs": [],
   "source": [
    "# Define gender direction with the words \"she\" and \"he\" \n",
    "# v_gender = E.diff('she', 'he')\n",
    "\n",
    "# Define gender direction with PCA\n",
    "with open('./data/definitional_pairs.json', \"r\") as f:\n",
    "    defs = json.load(f)\n",
    "v_gender = we.doPCA(defs, E).components_[0]"
   ]
  },
  {
   "cell_type": "markdown",
   "metadata": {},
   "source": [
    "### Generating analogies\n"
   ]
  },
  {
   "cell_type": "code",
   "execution_count": 7,
   "metadata": {},
   "outputs": [],
   "source": [
    "# Analogies gender\n",
    "# a_gender = E.best_analogies_dist_thresh(v_gender, thresh=1)\n",
    "\n",
    "# Visualising\n",
    "# we.viz(a_gender)"
   ]
  },
  {
   "cell_type": "markdown",
   "metadata": {},
   "source": [
    "### Analyzing occupational gender bias \n"
   ]
  },
  {
   "cell_type": "code",
   "execution_count": 8,
   "metadata": {},
   "outputs": [
    {
     "name": "stdout",
     "output_type": "stream",
     "text": [
      "                Female                |                 Male                 \n",
      "-----------------------------------------------------------------------------\n",
      "0.38                    businesswoman | maestro                        -0.244\n",
      "0.379                         actress | protege                        -0.236\n",
      "0.378                       housewife | statesman                      -0.222\n",
      "0.323                       homemaker | businessman                    -0.219\n",
      "0.308                           nurse | sportsman                      -0.209\n",
      "0.302                registered_nurse | philosopher                    -0.196\n",
      "0.297                        waitress | marksman                       -0.192\n",
      "0.28                     receptionist | skipper                        -0.187\n",
      "0.278                       socialite | financier                      -0.183\n",
      "0.277                       librarian | architect                      -0.177\n",
      "0.272                            maid | magician                       -0.172\n",
      "0.265                             nun | trumpeter                      -0.172\n",
      "0.261                       ballerina | major_leaguer                   -0.16\n",
      "0.233                           nanny | salesman                       -0.157\n",
      "0.232                       paralegal | captain                        -0.154\n",
      "0.218                     hairdresser | mechanic                       -0.153\n",
      "0.211                     housekeeper | warrior                        -0.152\n",
      "0.203                      bookkeeper | lieutenant                     -0.152\n",
      "0.199                         stylist | gangster                        -0.15\n",
      "0.198               interior_designer | fighter_pilot                  -0.148\n"
     ]
    }
   ],
   "source": [
    "# Analysis of extreme male and extreme female professions\n",
    "sp = E.profession_stereotypes(profession_words, v_gender)"
   ]
  },
  {
   "cell_type": "markdown",
   "metadata": {},
   "source": [
    "# 2 - Comparing Bias of word2vec, Glove and FastText"
   ]
  },
  {
   "cell_type": "code",
   "execution_count": 17,
   "metadata": {},
   "outputs": [],
   "source": [
    "# Change this to either fastText or Glove to compare word2vec (E) word embedding to a second word embedding\n",
    "E_compare = E_g"
   ]
  },
  {
   "cell_type": "code",
   "execution_count": 18,
   "metadata": {},
   "outputs": [],
   "source": [
    "def get_datapoints(sp, E, v_gender, words_set):\n",
    "    sp = sorted([(E.v(w).dot(v_gender), w) for w in profession_words if w in words_set])\n",
    "    points = [s[0] for s in sp]\n",
    "    words = [s[1] for s in sp]\n",
    "    words_sorted_ind = sorted(range(len(words)), key=lambda k: words[k])\n",
    "    datapoints =  [points[i] for i in words_sorted_ind]\n",
    "    return datapoints"
   ]
  },
  {
   "cell_type": "code",
   "execution_count": 19,
   "metadata": {},
   "outputs": [
    {
     "name": "stdout",
     "output_type": "stream",
     "text": [
      "                Female                |                 Male                 \n",
      "-----------------------------------------------------------------------------\n",
      "0.319                         actress | infielder                      -0.198\n",
      "0.308                       ballerina | statesman                      -0.192\n",
      "0.253                       housewife | archbishop                     -0.188\n",
      "0.246                           nurse | philosopher                    -0.185\n",
      "0.225                         stylist | commander                      -0.183\n",
      "0.225                       socialite | baron                          -0.181\n",
      "0.197                            maid | colonel                        -0.179\n",
      "0.196                   businesswoman | priest                         -0.173\n",
      "0.189                       homemaker | inventor                       -0.173\n",
      "0.188                        waitress | sportsman                       -0.17\n",
      "0.173                       librarian | preacher                       -0.169\n",
      "0.172                          dancer | politician                     -0.167\n",
      "0.169                           nanny | evangelist                     -0.163\n",
      "0.16                     receptionist | captain                        -0.162\n",
      "0.153                        teenager | congressman                    -0.162\n",
      "0.15                      hairdresser | pastor                         -0.161\n",
      "0.13                      housekeeper | drummer                        -0.161\n",
      "0.128                       therapist | physicist                      -0.158\n",
      "0.112                   choreographer | rabbi                          -0.157\n",
      "0.11                        publicist | mathematician                  -0.156\n"
     ]
    }
   ],
   "source": [
    "# Define gender direction and analyse occupational bias in other word embedding\n",
    "v_gender_compare = E_compare.diff('she', 'he')\n",
    "sp_compare = E_compare.profession_stereotypes(profession_words, v_gender_compare)\n",
    "\n",
    "words_set = [s[1] for s in sp_compare]\n",
    "compare_datapoints = get_datapoints(sp_compare, E_compare, v_gender_compare, words_set)\n",
    "og_datapoints = get_datapoints(sp, E, v_gender, words_set)"
   ]
  },
  {
   "cell_type": "code",
   "execution_count": 23,
   "metadata": {},
   "outputs": [
    {
     "data": {
      "text/plain": [
       "<matplotlib.collections.PathCollection at 0x7f5b380e86d0>"
      ]
     },
     "execution_count": 23,
     "metadata": {},
     "output_type": "execute_result"
    },
    {
     "data": {
      "image/png": "[encoded data removed]",
      "text/plain": [
       "<Figure size 432x288 with 1 Axes>"
      ]
     },
     "metadata": {
      "needs_background": "light"
     },
     "output_type": "display_data"
    }
   ],
   "source": [
    "# Plot comparison of bias of word2vec and fastText\n",
    "fig, ax = plt.subplots()\n",
    "ax.set_ylim(-0.2, 0.4)\n",
    "ax.set_xlim(-0.2, 0.4)\n",
    "plt.title(\"Comparison of bias of two word embeddings\")\n",
    "plt.xlabel(\"second embedding\")\n",
    "plt.ylabel(\"original embedding\")\n",
    "plt.scatter(compare_datapoints, og_datapoints, s=10)"
   ]
  },
  {
   "cell_type": "markdown",
   "metadata": {
    "collapsed": true
   },
   "source": [
    "# 3 - Debiasing algorithms on word2vec, Glove and FastText"
   ]
  },
  {
   "cell_type": "markdown",
   "metadata": {},
   "source": [
    "## Hard debiasing\n",
    "\n",
    "In hard debiasing, the gender neutral words are shifted to zero in the gender subspace (i.e. neutralized) by subtracting the projection of the neutral word embedding vector onto the gender subspace and renormalizing the resulting embedding to unit length. \n",
    "\n",
    "## Soft debiasing\n",
    "\n",
    "We adapted specifics from Manzini et al., Soft debiasing is done by solving the following optimization problem as mentioned in their paper:\n",
    "\n",
    "\\begin{equation}\n",
    "    \\underset{T}{\\min} || (TW)^T(TW) - W^TW||^2_F + \\lambda ||(TN)^T (TB)||^2_F\n",
    "\\end{equation}\n",
    "\n",
    "where W is the matrix of all embedding vectors, N is the matrix of the embedding vectors of the gender neutral words, B is the gender subspace, and T is the debiasing transformation that minimizes the projection of the neutral words onto the gender subspace but tries to maintain the pairwise inner products between the words"
   ]
  },
  {
   "cell_type": "code",
   "execution_count": null,
   "metadata": {},
   "outputs": [],
   "source": [
    "from debiaswe.debias import hard_debias"
   ]
  },
  {
   "cell_type": "code",
   "execution_count": null,
   "metadata": {},
   "outputs": [],
   "source": [
    "# Load gender related word lists from Bolukbasi et al.\n",
    "with open('./data/definitional_pairs.json', \"r\") as f:\n",
    "    defs = json.load(f)\n",
    "\n",
    "with open('./data/equalize_pairs.json', \"r\") as f:\n",
    "    equalize_pairs = json.load(f)\n",
    "\n",
    "with open('./data/gender_specific_seed.json', \"r\") as f:\n",
    "    gender_specific_words = json.load(f)"
   ]
  },
  {
   "cell_type": "code",
   "execution_count": null,
   "metadata": {},
   "outputs": [],
   "source": [
    "# Hard debias\n",
    "hard_debias(E, gender_specific_words, defs, equalize_pairs)\n",
    "\n",
    "# Soft debias\n",
    "# soft_debias(E, gender_specific_words, defs)"
   ]
  },
  {
   "cell_type": "code",
   "execution_count": null,
   "metadata": {},
   "outputs": [],
   "source": [
    "# Save hard debiased embeddings\n",
    "E.save('./embeddings/w2v_gnews_small_hard_debiased.txt')"
   ]
  },
  {
   "cell_type": "code",
   "execution_count": null,
   "metadata": {},
   "outputs": [],
   "source": [
    "# Analysis of extreme male and extreme female professions\n",
    "sp_debiased = E.profession_stereotypes(profession_words, v_gender)"
   ]
  },
  {
   "cell_type": "code",
   "execution_count": null,
   "metadata": {},
   "outputs": [],
   "source": [
    "# Analogies gender\n",
    "a_gender_debiased = E.best_analogies_dist_thresh(v_gender)\n",
    "\n",
    "# Visualising\n",
    "we.viz(a_gender_debiased)"
   ]
  },
  {
   "cell_type": "markdown",
   "metadata": {},
   "source": []
  },
  {
   "cell_type": "markdown",
   "metadata": {},
   "source": [
    "# 4 - Benchmarks"
   ]
  },
  {
   "cell_type": "code",
   "execution_count": null,
   "metadata": {},
   "outputs": [],
   "source": []
  }
 ],
 "metadata": {
  "kernelspec": {
   "display_name": "Python 3",
   "language": "python",
   "name": "python3"
  },
  "language_info": {
   "codemirror_mode": {
    "name": "ipython",
    "version": 3
   },
   "file_extension": ".py",
   "mimetype": "text/x-python",
   "name": "python",
   "nbconvert_exporter": "python",
   "pygments_lexer": "ipython3",
   "version": "3.7.6"
  }
 },
 "nbformat": 4,
 "nbformat_minor": 2
}
