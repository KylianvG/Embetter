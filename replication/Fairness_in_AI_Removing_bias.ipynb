{
 "cells": [
  {
   "cell_type": "markdown",
   "metadata": {},
   "source": [
    "# Fairness in AI: Removing word embeddings\n",
    "\n",
    "#### Kylian van Geijtenbeek, Thom Visser, Martine Toering, Iulia Ionescu"
   ]
  },
  {
   "cell_type": "markdown",
   "metadata": {},
   "source": [
    "$\\textbf{Abstract:}$ In this paper we reproduce the word embedding debiasing algo-rithm from Bolukbasi et al. [2]. We adapt their online codebase and extend it with their soft debiasing method, integrate several popular benchmarks and investigate the effectiveness of the algorithmon the newer fastText, BERT and XLNet embeddings, besides the Word2vec embeddings used by Bolukbasi et al. [2]. We show that the removal of direct bias from all the different embeddings barely affects their effectiveness through a comparison of benchmark scores. However, we fail to reproduce the large scale soft debiasing results due to a lack of detail on the original implementation."
   ]
  },
  {
   "cell_type": "code",
   "execution_count": 1,
   "metadata": {},
   "outputs": [],
   "source": [
    "from __future__ import print_function, division\n",
    "%matplotlib inline\n",
    "from matplotlib import pyplot as plt\n",
    "import json\n",
    "import random\n",
    "import numpy as np\n",
    "import copy\n",
    "\n",
    "import debiaswe as dwe\n",
    "import debiaswe.we as we\n",
    "from debiaswe.we import WordEmbedding\n",
    "from debiaswe.data import load_professions\n",
    "\n",
    "from debiaswe.debias import hard_debias\n",
    "from debiaswe.debias import soft_debias\n",
    "from debiaswe.benchmarks import Benchmark"
   ]
  },
  {
   "cell_type": "markdown",
   "metadata": {},
   "source": [
    "## Notebook preferences"
   ]
  },
  {
   "cell_type": "code",
   "execution_count": null,
   "metadata": {},
   "outputs": [],
   "source": []
  },
  {
   "cell_type": "markdown",
   "metadata": {},
   "source": [
    "# 1 - Gender Bias in word2vec, Glove and FastText"
   ]
  },
  {
   "cell_type": "markdown",
   "metadata": {},
   "source": [
    "### Load data"
   ]
  },
  {
   "cell_type": "markdown",
   "metadata": {},
   "source": [
    "In this notebook, we will use three different word embeddings: $\\textbf{word2vec}$ (Mikolov et al. 2013), $\\textbf{glove}$ (Pennington et al. 2014) and $\\textbf{fastText}$ (Bojanowski et al. 2016).\n",
    "\n",
    "The word2vec embedding we use is learned from a corpus of Google News articles (https://code.google.com/archive/p/word2vec/). The embeddings are 300-dimensional for 3 million words. For glove we make use of the 300-dimensional vectors trained on Common Crawl (https://nlp.stanford.edu/projects/glove/). Lastly, FastText is a word embedding from Facebook AI Research lab trained on Wikipedia corpus and Common Crawl and also consists of 300-dimensional vectors.\n",
    "\n",
    "We start by loading in the data."
   ]
  },
  {
   "cell_type": "code",
   "execution_count": 2,
   "metadata": {},
   "outputs": [],
   "source": [
    "# TODO \n",
    "w2v = './embeddings/w2v_gnews_small.txt'\n",
    "glove = './embeddings/glove-300d_small.txt'\n",
    "ft = './embeddings/fasttext_wiki-news-300d_small.txt'"
   ]
  },
  {
   "cell_type": "code",
   "execution_count": 3,
   "metadata": {},
   "outputs": [
    {
     "name": "stdout",
     "output_type": "stream",
     "text": [
      "*** Reading data from ./embeddings/w2v_gnews_small.txt\n",
      "(26423, 300)\n",
      "26423 words of dimension 300 : in, for, that, is, ..., Jay, Leroy, Brad, Jermaine\n",
      "*** Reading data from ./embeddings/glove-300d_small.txt\n",
      "(42982, 300)\n",
      "42982 words of dimension 300 : the, and, to, of, ..., cushman, darkside, motherland, chairmen\n",
      "*** Reading data from ./embeddings/fasttext_wiki-news-300d_small.txt\n",
      "(27014, 300)\n",
      "27014 words of dimension 300 : the, and, of, to, ..., circumscribed, whos, salvaging, anion\n"
     ]
    }
   ],
   "source": [
    "# TODO \n",
    "\n",
    "# Load google news word2vec\n",
    "E = WordEmbedding(w2v)\n",
    "# Load Glove\n",
    "E_g = WordEmbedding(glove)\n",
    "# Load FastText \n",
    "E_f = WordEmbedding(ft)"
   ]
  },
  {
   "cell_type": "code",
   "execution_count": 4,
   "metadata": {},
   "outputs": [
    {
     "name": "stdout",
     "output_type": "stream",
     "text": [
      "Loaded professions\n",
      "Format:\n",
      "word,\n",
      "definitional female -1.0 -> definitional male 1.0\n",
      "stereotypical female -1.0 -> stereotypical male 1.0\n"
     ]
    }
   ],
   "source": [
    "# Load professions from Bolukbasi et al. \n",
    "professions = load_professions()\n",
    "profession_words = [p[0] for p in professions]"
   ]
  },
  {
   "cell_type": "code",
   "execution_count": 5,
   "metadata": {},
   "outputs": [],
   "source": [
    "# TODO\n",
    "\n",
    "# Plot manifolds\n",
    "# print(np.linalg.norm(E.vecs, axis=1).mean())\n",
    "# print(E.vecs.mean())\n",
    "\n",
    "# from sklearn.manifold import TSNE\n",
    "# tsne = TSNE(n_components=2).fit_transform(E.vecs[:2000])\n",
    "# plt.scatter(tsne[:,0], tsne[:,1], s=10)\n",
    "# plt.show()"
   ]
  },
  {
   "cell_type": "markdown",
   "metadata": {},
   "source": [
    "### Define gender direction"
   ]
  },
  {
   "cell_type": "code",
   "execution_count": 6,
   "metadata": {},
   "outputs": [],
   "source": [
    "# Define gender direction with the words \"she\" and \"he\" \n",
    "# v_gender = E.diff('she', 'he')\n",
    "\n",
    "# Define gender direction with PCA\n",
    "with open('./data/definitional_pairs.json', \"r\") as f:\n",
    "    defs = json.load(f)\n",
    "v_gender = we.doPCA(defs, E).components_[0]"
   ]
  },
  {
   "cell_type": "markdown",
   "metadata": {},
   "source": [
    "### Generating analogies\n"
   ]
  },
  {
   "cell_type": "code",
   "execution_count": 7,
   "metadata": {},
   "outputs": [],
   "source": [
    "# Analogies gender\n",
    "# a_gender = E.best_analogies_dist_thresh(v_gender, thresh=1)\n",
    "\n",
    "# Visualising\n",
    "# we.viz(a_gender)"
   ]
  },
  {
   "cell_type": "markdown",
   "metadata": {},
   "source": [
    "### Analyzing occupational gender bias \n"
   ]
  },
  {
   "cell_type": "code",
   "execution_count": 8,
   "metadata": {},
   "outputs": [
    {
     "name": "stdout",
     "output_type": "stream",
     "text": [
      "                Female                |                 Male                 \n",
      "-----------------------------------------------------------------------------\n",
      "0.38                    businesswoman | maestro                        -0.244\n",
      "0.379                         actress | protege                        -0.236\n",
      "0.378                       housewife | statesman                      -0.222\n",
      "0.323                       homemaker | businessman                    -0.219\n",
      "0.308                           nurse | sportsman                      -0.209\n",
      "0.302                registered_nurse | philosopher                    -0.196\n",
      "0.297                        waitress | marksman                       -0.192\n",
      "0.28                     receptionist | skipper                        -0.187\n",
      "0.278                       socialite | financier                      -0.183\n",
      "0.277                       librarian | architect                      -0.177\n",
      "0.272                            maid | magician                       -0.172\n",
      "0.265                             nun | trumpeter                      -0.172\n",
      "0.261                       ballerina | major_leaguer                   -0.16\n",
      "0.233                           nanny | salesman                       -0.157\n",
      "0.232                       paralegal | captain                        -0.154\n",
      "0.218                     hairdresser | mechanic                       -0.153\n",
      "0.211                     housekeeper | warrior                        -0.152\n",
      "0.203                      bookkeeper | lieutenant                     -0.152\n",
      "0.199                         stylist | gangster                        -0.15\n",
      "0.198               interior_designer | fighter_pilot                  -0.148\n"
     ]
    }
   ],
   "source": [
    "# Analysis of extreme male and extreme female professions\n",
    "sp = E.profession_stereotypes(profession_words, v_gender)"
   ]
  },
  {
   "cell_type": "markdown",
   "metadata": {},
   "source": [
    "# 2 - Comparing Bias of word2vec, Glove and FastText"
   ]
  },
  {
   "cell_type": "markdown",
   "metadata": {},
   "source": [
    "We will compare the gender bias between word embeddings FastText and Glove. We do this by following Bolukbasi et al. approach. The profession words are projected onto the gender axis for FastText and Glove. Each datapoint represents a profession word."
   ]
  },
  {
   "cell_type": "code",
   "execution_count": 9,
   "metadata": {},
   "outputs": [],
   "source": [
    "# To compare word2vec to a second word embedding, change this to either fastText (E_f) or Glove (E_g)\n",
    "compare_embedding = \"fastText\"\n",
    "E_compare = E_f"
   ]
  },
  {
   "cell_type": "code",
   "execution_count": 10,
   "metadata": {},
   "outputs": [],
   "source": [
    "def get_datapoints(sp, E, v_gender, words_set):\n",
    "    sp = sorted([(E.v(w).dot(v_gender), w) for w in profession_words if w in words_set])\n",
    "    points = [s[0] for s in sp]\n",
    "    words = [s[1] for s in sp]\n",
    "    words_sorted_ind = sorted(range(len(words)), key=lambda k: words[k])\n",
    "    datapoints =  [points[i] for i in words_sorted_ind]\n",
    "    return datapoints"
   ]
  },
  {
   "cell_type": "code",
   "execution_count": 11,
   "metadata": {},
   "outputs": [
    {
     "name": "stdout",
     "output_type": "stream",
     "text": [
      "                Female                |                 Male                 \n",
      "-----------------------------------------------------------------------------\n",
      "0.255                   businesswoman | sportsman                      -0.171\n",
      "0.208                         actress | statesman                      -0.159\n",
      "0.183                             nun | salesman                       -0.151\n",
      "0.159                       housewife | cartoonist                     -0.147\n",
      "0.147                           nurse | congressman                    -0.147\n",
      "0.14                         waitress | pundit                         -0.143\n",
      "0.129                            maid | maestro                        -0.141\n",
      "0.127                       socialite | inventor                       -0.139\n",
      "0.126                       ballerina | barber                         -0.133\n",
      "0.122                           nanny | cleric                          -0.13\n",
      "0.117                    receptionist | businessman                     -0.13\n",
      "0.101                     housekeeper | promoter                       -0.128\n",
      "0.069                          dancer | commander                      -0.124\n",
      "0.06                        therapist | electrician                    -0.123\n",
      "0.055                    pediatrician | farmer                         -0.123\n",
      "0.046                        vocalist | monk                           -0.121\n",
      "0.046                       librarian | architect                      -0.121\n",
      "0.046                         swimmer | soldier                         -0.12\n",
      "0.045                     hairdresser | mechanic                        -0.12\n",
      "0.042                         soloist | trader                         -0.117\n"
     ]
    }
   ],
   "source": [
    "# Define gender direction and analyse occupational bias in other word embedding\n",
    "v_gender_compare = E_compare.diff('she', 'he')\n",
    "sp_compare = E_compare.profession_stereotypes(profession_words, v_gender_compare)\n",
    "\n",
    "words_set = [s[1] for s in sp_compare]\n",
    "compare_datapoints = get_datapoints(sp_compare, E_compare, v_gender_compare, words_set)\n",
    "og_datapoints = get_datapoints(sp, E, v_gender, words_set)"
   ]
  },
  {
   "cell_type": "code",
   "execution_count": 12,
   "metadata": {},
   "outputs": [
    {
     "data": {
      "image/png": "[encoded data removed]",
      "text/plain": [
       "<Figure size 432x288 with 1 Axes>"
      ]
     },
     "metadata": {
      "needs_background": "light"
     },
     "output_type": "display_data"
    }
   ],
   "source": [
    "# Plot comparison of bias of word2vec and fastText (or Glove)\n",
    "fig, ax = plt.subplots()\n",
    "ax.scatter(compare_datapoints, og_datapoints, s=10)\n",
    "ax.set_ylim(-0.2, 0.4)\n",
    "ax.set_xlim(-0.2, 0.4)\n",
    "plt.xlabel(\"Gender axis of {}\".format(compare_embedding), fontsize=11)\n",
    "plt.ylabel(\"Gender axis of word2vec\", fontsize=11)\n",
    "plt.title(\"Gender bias in profession words of embeddings\", pad=18, fontsize=13)\n",
    "fig.savefig(\"test.png\")\n",
    "plt.show()"
   ]
  },
  {
   "cell_type": "markdown",
   "metadata": {
    "collapsed": true
   },
   "source": [
    "# 3 - Debiasing algorithms on word2vec, Glove and FastText"
   ]
  },
  {
   "cell_type": "markdown",
   "metadata": {},
   "source": [
    "## Hard debiasing\n",
    "\n",
    "In hard debiasing, the gender neutral words are shifted to zero in the gender subspace (i.e. neutralized) by subtracting the projection of the neutral word embedding vector onto the gender subspace and renormalizing the resulting embedding to unit length. \n",
    "\n",
    "## Soft debiasing\n",
    "\n",
    "We adapted specifics from Manzini et al., Soft debiasing is done by solving the following optimization problem as mentioned in their paper:\n",
    "\n",
    "\\begin{equation}\n",
    "    \\underset{T}{\\min} || (TW)^T(TW) - W^TW||^2_F + \\lambda ||(TN)^T (TB)||^2_F\n",
    "\\end{equation}\n",
    "\n",
    "where W is the matrix of all embedding vectors, N is the matrix of the embedding vectors of the gender neutral words, B is the gender subspace, and T is the debiasing transformation that minimizes the projection of the neutral words onto the gender subspace but tries to maintain the pairwise inner products between the words.\n",
    "\n",
    "This code is largely based on code from https://github.com/TManzini/DebiasMulticlassWordEmbedding."
   ]
  },
  {
   "cell_type": "code",
   "execution_count": 13,
   "metadata": {},
   "outputs": [],
   "source": [
    "# Load gender related word lists from Bolukbasi et al.\n",
    "with open('./data/definitional_pairs.json', \"r\") as f:\n",
    "    defs = json.load(f)\n",
    "\n",
    "with open('./data/equalize_pairs.json', \"r\") as f:\n",
    "    equalize_pairs = json.load(f)\n",
    "\n",
    "with open('./data/gender_specific_seed.json', \"r\") as f:\n",
    "    gender_specific_words = json.load(f)"
   ]
  },
  {
   "cell_type": "markdown",
   "metadata": {},
   "source": [
    "Please choose one option for debiasing in the following cells."
   ]
  },
  {
   "cell_type": "code",
   "execution_count": 14,
   "metadata": {},
   "outputs": [],
   "source": [
    "# TODO \n",
    "\n",
    "# Change this to dataset to debias for fastText (E_f) or Glove (E_g). Default is word2vec (E)\n",
    "E_debias = E"
   ]
  },
  {
   "cell_type": "code",
   "execution_count": 15,
   "metadata": {},
   "outputs": [
    {
     "name": "stdout",
     "output_type": "stream",
     "text": [
      "26423 words of dimension 300 : in, for, that, is, ..., Jay, Leroy, Brad, Jermaine\n",
      "26423 words of dimension 300 : in, for, that, is, ..., Jay, Leroy, Brad, Jermaine\n"
     ]
    }
   ],
   "source": [
    "# Hard debias\n",
    "hard_debias(E, gender_specific_words, defs, equalize_pairs)\n",
    "\n",
    "# Soft debias\n",
    "# soft_debias(E, gender_specific_words, defs, log=False)"
   ]
  },
  {
   "cell_type": "code",
   "execution_count": 16,
   "metadata": {},
   "outputs": [
    {
     "name": "stdout",
     "output_type": "stream",
     "text": [
      "Wrote 26423 words to ./embeddings/w2v_gnews_small_hard_debiased.txt\n"
     ]
    }
   ],
   "source": [
    "# TODO\n",
    "\n",
    "# Save hard debiased embeddings\n",
    "E.save('./embeddings/w2v_gnews_small_hard_debiased.txt')\n",
    "\n",
    "# Save soft debiased embeddings\n",
    "# E.save('./embeddings/w2v_gnews_small_soft_debiased.txt')"
   ]
  },
  {
   "cell_type": "code",
   "execution_count": 17,
   "metadata": {},
   "outputs": [
    {
     "name": "stdout",
     "output_type": "stream",
     "text": [
      "                Female                |                 Male                 \n",
      "-----------------------------------------------------------------------------\n",
      "0.433                   businesswoman | businessman                    -0.433\n",
      "0.379                         actress | congressman                    -0.428\n",
      "0.378                       housewife | dad                            -0.365\n",
      "0.297                        waitress | councilman                     -0.358\n",
      "0.272                            maid | statesman                      -0.222\n",
      "0.265                             nun | salesman                       -0.157\n",
      "0.261                       ballerina | handyman                       -0.107\n",
      "0.0                         socialite | monk                           -0.082\n",
      "0.0                       hairdresser | skipper                          -0.0\n",
      "0.0                         homemaker | jeweler                          -0.0\n",
      "0.0                          lecturer | comedian                         -0.0\n",
      "0.0                         fisherman | restaurateur                     -0.0\n",
      "0.0                     correspondent | architect                        -0.0\n",
      "0.0                         paralegal | promoter                         -0.0\n",
      "0.0                       pathologist | cameraman                        -0.0\n",
      "0.0                           provost | inventor                         -0.0\n",
      "0.0                        bookkeeper | sportsman                        -0.0\n",
      "0.0                            warden | economics_professor              -0.0\n",
      "0.0                    superintendent | strategist                       -0.0\n",
      "0.0                          vocalist | captain                          -0.0\n"
     ]
    }
   ],
   "source": [
    "# Analysis of extreme male and extreme female professions\n",
    "sp_debiased = E.profession_stereotypes(profession_words, v_gender)"
   ]
  },
  {
   "cell_type": "code",
   "execution_count": 18,
   "metadata": {},
   "outputs": [],
   "source": [
    "# Analogies gender\n",
    "# a_gender_debiased = E.best_analogies_dist_thresh(v_gender)\n",
    "\n",
    "# Visualising\n",
    "# we.viz(a_gender_debiased)"
   ]
  },
  {
   "cell_type": "markdown",
   "metadata": {},
   "source": [
    "# 4 - Benchmarks"
   ]
  },
  {
   "cell_type": "code",
   "execution_count": 19,
   "metadata": {},
   "outputs": [],
   "source": [
    "# TODO\n",
    "\n",
    "def run_benchmark(E, embedding_name):\n",
    "    benchmark = Benchmark()\n",
    "    result_original = benchmark.evaluate(E, \"'Before', {}\".format(embedding_name))\n",
    "    E_hard = copy.deepcopy(E)\n",
    "    hard_debias(E_hard, gender_specific_words, defs, equalize_pairs)\n",
    "    result_hard_debiased = benchmark.evaluate(E_hard, \"'Hard debiased', {}\".format(embedding_name))\n",
    "    E_soft = copy.deepcopy(E) \n",
    "    soft_debias(E_soft, gender_specific_words, defs, log=False)\n",
    "    result_soft_debiased = benchmark.evaluate(E, \"'Soft debiased', {}\".format(embedding_name))\n",
    "    results = [result_original, result_hard_debiased, result_soft_debiased]\n",
    "    return results"
   ]
  },
  {
   "cell_type": "code",
   "execution_count": null,
   "metadata": {},
   "outputs": [
    {
     "name": "stdout",
     "output_type": "stream",
     "text": [
      "+--------------------------------------------------------+\n",
      "|             Results for 'Before', word2vec             |\n",
      "+---------------+-------+-----------+--------------------+\n",
      "| Dataset       | Found | Not Found |       Score        |\n",
      "+---------------+-------+-----------+--------------------+\n",
      "| EN-WS-353-ALL |  318  |     35    | 68.52623098234018  |\n",
      "| EN-RG-65      |   53  |     12    | 77.49622028082247  |\n",
      "| MSR-analogy   |  5276 |    2724   | 46.967399545109934 |\n",
      "+---------------+-------+-----------+--------------------+\n",
      "26423 words of dimension 300 : in, for, that, is, ..., Jay, Leroy, Brad, Jermaine\n",
      "26423 words of dimension 300 : in, for, that, is, ..., Jay, Leroy, Brad, Jermaine\n",
      "+-------------------------------------------------------+\n",
      "|         Results for 'Hard debiased', word2vec         |\n",
      "+---------------+-------+-----------+-------------------+\n",
      "| Dataset       | Found | Not Found |       Score       |\n",
      "+---------------+-------+-----------+-------------------+\n",
      "| EN-WS-353-ALL |  318  |     35    | 68.51231156178875 |\n",
      "| EN-RG-65      |   53  |     12    | 77.49622028082247 |\n",
      "| MSR-analogy   |  5276 |    2724   | 46.94844579226687 |\n",
      "+---------------+-------+-----------+-------------------+\n"
     ]
    }
   ],
   "source": [
    "# Evaluate for word2vec, Glove and FastText\n",
    "w2v_results = run_benchmark(E, \"word2vec\")\n",
    "g_results = run_benchmark(E_g, \"Glove\")\n",
    "f_results = run_benchmark(E_f, \"fastText\")\n",
    "\n",
    "benchmark.pprint_compare(w2v_results, [\"Before\", \"Hard-debiased\", \"Soft-debiased\"], \"word2vec\")\n",
    "benchmark.pprint_compare(g_results, [\"Before\", \"Hard-debiased\", \"Soft-debiased\"], \"Glove\")\n",
    "benchmark.pprint_compare(f_results, [\"Before\", \"Hard-debiased\", \"Soft-debiased\"], \"fastText\")"
   ]
  },
  {
   "cell_type": "code",
   "execution_count": null,
   "metadata": {},
   "outputs": [],
   "source": []
  }
 ],
 "metadata": {
  "kernelspec": {
   "display_name": "Python 3",
   "language": "python",
   "name": "python3"
  },
  "language_info": {
   "codemirror_mode": {
    "name": "ipython",
    "version": 3
   },
   "file_extension": ".py",
   "mimetype": "text/x-python",
   "name": "python",
   "nbconvert_exporter": "python",
   "pygments_lexer": "ipython3",
   "version": "3.7.6"
  }
 },
 "nbformat": 4,
 "nbformat_minor": 2
}
