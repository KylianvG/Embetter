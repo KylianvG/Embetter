{
 "cells": [
  {
   "cell_type": "code",
   "execution_count": null,
   "metadata": {},
   "outputs": [],
   "source": [
    "# Setup:\n",
    "# Clone the code repository from https://github.com/tolga-b/debiaswe.git\n",
    "# mkdir debiaswe_tutorial\n",
    "# cd debiaswe_tutorial\n",
    "# git clone https://github.com/tolga-b/debiaswe.git\n",
    "\n",
    "# To reduce the time of downloading data, we provide as subset of GoogleNews-vectors in the following location:\n",
    "# https://drive.google.com/file/d/1NH6jcrg8SXbnhpIXRIXF_-KUE7wGxGaG/view?usp=sharing\n",
    "\n",
    "# For full embeddings:\n",
    "# Download embeddings at https://github.com/tolga-b/debiaswe and put them on the following directory\n",
    "# embeddings/GoogleNews-vectors-negative300-hard-debiased.bin\n",
    "# embeddings/GoogleNews-vectors-negative300.bin"
   ]
  },
  {
   "cell_type": "code",
   "execution_count": null,
   "metadata": {},
   "outputs": [],
   "source": [
    "from __future__ import print_function, division\n",
    "%matplotlib inline\n",
    "from matplotlib import pyplot as plt\n",
    "import json\n",
    "import random\n",
    "import numpy as np\n",
    "\n",
    "import debiaswe as dwe\n",
    "import debiaswe.we as we\n",
    "from debiaswe.we import WordEmbedding\n",
    "from debiaswe.data import load_professions\n",
    "from debiaswe.data import load_gender_seed\n",
    "\n",
    "import torch"
   ]
  },
  {
   "cell_type": "markdown",
   "metadata": {},
   "source": [
    "## Part 1: Gender Bias in Word Embedding\n",
    "\n",
    "\n",
    "### Step 1: Load data\n",
    "We first load the word embedding trained on a corpus of Google News texts consisting of 3 million English words and terms. The embedding maps each word into a 300-dimension vector. "
   ]
  },
  {
   "cell_type": "code",
   "execution_count": null,
   "metadata": {},
   "outputs": [],
   "source": [
    "# load google news word2vec\n",
    "E = WordEmbedding('./embeddings/w2v_gnews_small.txt')\n",
    "print(E)\n",
    "words = E.words\n",
    "print(\"Words:\", len(words))\n",
    "\n",
    "# load professions\n",
    "professions = load_professions()\n",
    "profession_words = [p[0] for p in professions]"
   ]
  },
  {
   "cell_type": "markdown",
   "metadata": {},
   "source": [
    "### Step 2: Define gender direction\n",
    "\n",
    "We define gender direction by the direciton of she - he because they are frequent and do not have fewer alternative word senses (e.g., man can also refer to mankind). In the paper, we discuss alternative approach for defining gender direction (e.g., using PCA)."
   ]
  },
  {
   "cell_type": "code",
   "execution_count": null,
   "metadata": {},
   "outputs": [],
   "source": [
    "# gender direction\n",
    "v_gender = E.diff('she', 'he')\n",
    "\n",
    "# Uncomment below for direction based on multiple definitional pairs\n",
    "# with open('./data/definitional_pairs.json', \"r\") as f:\n",
    "#     defs = json.load(f)\n",
    "# v_gender = we.doPCA(defs, E).components_[0]"
   ]
  },
  {
   "cell_type": "markdown",
   "metadata": {},
   "source": [
    "### Step 3: Generating analogies of \"Man: x :: Woman : y\"\n",
    "\n",
    "We show that the word embedding model generates gender-streotypical analogy pairs. \n",
    "To generate the analogy pairs, we use the analogy score defined in our paper. This score finds word pairs that are well aligned with gender direction as well as within a short distance from each other to preserve topic consistency. \n"
   ]
  },
  {
   "cell_type": "code",
   "execution_count": null,
   "metadata": {},
   "outputs": [],
   "source": [
    "# analogies gender\n",
    "a_gender = E.best_analogies_dist_thresh(v_gender, thresh=1)\n",
    "\n",
    "# for (a,b,c) in a_gender:\n",
    "#     print(a+\"-\"+b)\n",
    "we.viz(a_gender)"
   ]
  },
  {
   "cell_type": "markdown",
   "metadata": {},
   "source": [
    "### Step 4: Analyzing gender bias in word vectors asscoiated with professions\n",
    "\n",
    "Next, we show that many occupations are unintendedly associated with either male of female by projecting their word vectors onto the gender dimension. \n",
    "\n",
    "The script will output the profession words sorted with respect to the projection score in the direction of gender."
   ]
  },
  {
   "cell_type": "code",
   "execution_count": null,
   "metadata": {},
   "outputs": [],
   "source": [
    "# profession analysis gender\n",
    "sp = sorted([(E.v(w).dot(v_gender), w) for w in profession_words])\n",
    "\n",
    "sp[0:20], sp[-20:]"
   ]
  },
  {
   "cell_type": "markdown",
   "metadata": {},
   "source": [
    "## Find soft debias transform using SGD\n",
    "This code is largely based on code from https://github.com/TManzini/DebiasMulticlassWordEmbedding."
   ]
  },
  {
   "cell_type": "code",
   "execution_count": null,
   "metadata": {},
   "outputs": [],
   "source": [
    "from debiaswe.debias import soft_debias"
   ]
  },
  {
   "cell_type": "code",
   "execution_count": null,
   "metadata": {},
   "outputs": [],
   "source": [
    "with open('./data/definitional_pairs.json', \"r\") as f:\n",
    "    defs = json.load(f)\n",
    "with open('./data/gender_specific_seed.json', \"r\") as f:\n",
    "    gender_specific_words = json.load(f)"
   ]
  },
  {
   "cell_type": "code",
   "execution_count": null,
   "metadata": {},
   "outputs": [],
   "source": [
    "soft_debias(E, gender_specific_words, defs)"
   ]
  },
  {
   "cell_type": "code",
   "execution_count": null,
   "metadata": {},
   "outputs": [],
   "source": [
    "# save soft debiased embeddings\n",
    "E.save('./embeddings/w2v_gnews_small_soft_debias.txt')"
   ]
  },
  {
   "cell_type": "code",
   "execution_count": null,
   "metadata": {
    "scrolled": true
   },
   "outputs": [],
   "source": [
    "a_gender_debiased = E.best_analogies_dist_thresh(v_gender)\n",
    "we.viz(a_gender_debiased)"
   ]
  },
  {
   "cell_type": "code",
   "execution_count": null,
   "metadata": {
    "scrolled": true
   },
   "outputs": [],
   "source": [
    "# profession analysis gender\n",
    "sp = sorted([(E.v(w).dot(v_gender), w) for w in profession_words])\n",
    "\n",
    "sp[0:20], sp[-20:]"
   ]
  }
 ],
 "metadata": {
  "kernelspec": {
   "display_name": "Python 3",
   "language": "python",
   "name": "python3"
  },
  "language_info": {
   "codemirror_mode": {
    "name": "ipython",
    "version": 3
   },
   "file_extension": ".py",
   "mimetype": "text/x-python",
   "name": "python",
   "nbconvert_exporter": "python",
   "pygments_lexer": "ipython3",
   "version": "3.7.4"
  }
 },
 "nbformat": 4,
 "nbformat_minor": 2
}
